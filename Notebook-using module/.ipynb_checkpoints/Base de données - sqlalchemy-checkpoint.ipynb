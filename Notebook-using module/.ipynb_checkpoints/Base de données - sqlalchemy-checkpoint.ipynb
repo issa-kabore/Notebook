{
 "cells": [
  {
   "cell_type": "markdown",
   "id": "5e64e560-b187-4fe1-a130-439b75dabfb0",
   "metadata": {},
   "source": [
    "#### Package"
   ]
  },
  {
   "cell_type": "code",
   "execution_count": 1,
   "id": "aa17e38c-ea15-4eea-ac4a-511459118118",
   "metadata": {},
   "outputs": [
    {
     "name": "stderr",
     "output_type": "stream",
     "text": [
      "Cloning into 'module'...\n"
     ]
    }
   ],
   "source": [
    "# Downloading package as repertory\n",
    "! git clone https://github.com/issa-kabore/module"
   ]
  },
  {
   "cell_type": "code",
   "execution_count": 6,
   "id": "610d7f9e-6745-4e20-ab95-9530936baa8c",
   "metadata": {},
   "outputs": [],
   "source": [
    "!rm -rf package"
   ]
  },
  {
   "cell_type": "markdown",
   "id": "0257dbea-e597-44c2-b5b6-c0472d5d4604",
   "metadata": {},
   "source": [
    "Now we have folder named `module` in our current directory"
   ]
  },
  {
   "cell_type": "code",
   "execution_count": 2,
   "id": "de6fd205-81c0-43a9-89bb-0a4ecc231b21",
   "metadata": {},
   "outputs": [
    {
     "name": "stdout",
     "output_type": "stream",
     "text": [
      "Current folder: C:\\Users\\a844026\\Desktop\\Notebook\\Notebook-using module\n"
     ]
    }
   ],
   "source": [
    "import os \n",
    "print(f\"Current folder: {os.getcwd()}\")"
   ]
  },
  {
   "cell_type": "code",
   "execution_count": 1,
   "id": "7b57e6af-87fe-4619-9378-64b905dddb1f",
   "metadata": {},
   "outputs": [],
   "source": [
    "from module.module.database import *"
   ]
  },
  {
   "cell_type": "markdown",
   "id": "2b2c48ad-e5ec-4bf0-bd9c-e57c7e36f118",
   "metadata": {},
   "source": [
    "#### Config database "
   ]
  },
  {
   "cell_type": "code",
   "execution_count": 2,
   "id": "406aa4b7-aca8-4e05-9a25-770331b2e313",
   "metadata": {},
   "outputs": [
    {
     "name": "stderr",
     "output_type": "stream",
     "text": [
      "2023-01-25 13:58:28,219 - INFO - Testing database module\n",
      "2023-01-25 13:58:28,224 - INFO - Connected to the sqlite:///database.db.\n",
      "2023-01-25 13:58:28,244 - INFO - Database DataBase(name='database.db') created.\n"
     ]
    }
   ],
   "source": [
    "LOGGER.info('Testing database module')\n",
    "# use 'overwrite' param to replace existing database.\n",
    "# others params like: user, password, host, port etc...\n",
    "database = DataBase(connector=\"sqlite\", dbname=\"database.db\" ,overwrite=True)"
   ]
  },
  {
   "cell_type": "markdown",
   "id": "8f1b5529-afad-410a-bd3a-06dfee1e5976",
   "metadata": {},
   "source": [
    "File `database.db` was created"
   ]
  },
  {
   "cell_type": "code",
   "execution_count": 3,
   "id": "e77a9fd8-325d-41be-b429-4c04449eaf33",
   "metadata": {},
   "outputs": [
    {
     "name": "stderr",
     "output_type": "stream",
     "text": [
      "2023-01-25 13:58:32,511 - INFO - Table 'students' created.\n"
     ]
    }
   ],
   "source": [
    "# create table\n",
    "students = Table(\"students\", database.Base.metadata,\n",
    "                     Column('id', Integer, primary_key=True),\n",
    "                     Column('name', String(50)),\n",
    "                     Column('age', Integer),\n",
    "                     Column('grade', String(15)), extend_existing=True)\n",
    "\n",
    "database.create_table(students)"
   ]
  },
  {
   "cell_type": "code",
   "execution_count": 4,
   "id": "3e8fc6fa-99f5-4c81-8b66-75d238bc0ab8",
   "metadata": {},
   "outputs": [
    {
     "name": "stdout",
     "output_type": "stream",
     "text": [
      "SHOW TABLES: ['students']\n"
     ]
    }
   ],
   "source": [
    "print(f\"SHOW TABLES: {database.show_tables()}\")"
   ]
  },
  {
   "cell_type": "code",
   "execution_count": 5,
   "id": "b2cee8ff-2a2d-493b-aabe-8ba80ae9bf71",
   "metadata": {},
   "outputs": [
    {
     "name": "stderr",
     "output_type": "stream",
     "text": [
      "2023-01-25 13:58:45,042 - INFO - Table 'employees' created.\n"
     ]
    },
    {
     "name": "stdout",
     "output_type": "stream",
     "text": [
      "SHOW TABLES: ['employees', 'students']\n"
     ]
    }
   ],
   "source": [
    "employees = Table('employees', database.Base.metadata,\n",
    "                  Column('employee_id', Integer, primary_key=True),\n",
    "                  Column('employee_name', String(60), nullable=False, key='name'),  extend_existing=True)\n",
    "\n",
    "\n",
    "database.create_table(employees)\n",
    "print(f\"SHOW TABLES: {database.show_tables()}\")"
   ]
  },
  {
   "cell_type": "code",
   "execution_count": 6,
   "id": "cc1cdf25-0be6-4e80-b23a-5ce5f4b59af6",
   "metadata": {},
   "outputs": [
    {
     "name": "stderr",
     "output_type": "stream",
     "text": [
      "2023-01-25 13:58:49,792 - INFO - Table 'students' deleted.\n"
     ]
    },
    {
     "name": "stdout",
     "output_type": "stream",
     "text": [
      "SHOW TABLES: ['employees']\n"
     ]
    }
   ],
   "source": [
    "database.drop_table(students)\n",
    "print(f\"SHOW TABLES: {database.show_tables()}\")"
   ]
  },
  {
   "cell_type": "code",
   "execution_count": 9,
   "id": "74f9cb73-8cb4-40a1-84ac-96ec4395e8f2",
   "metadata": {},
   "outputs": [
    {
     "name": "stderr",
     "output_type": "stream",
     "text": [
      "2023-01-25 14:00:34,521 - INFO - Table 'students' created.\n",
      "2023-01-25 14:00:34,540 - INFO - Record inserted into 'students'.\n"
     ]
    }
   ],
   "source": [
    "database.create_table(students)\n",
    "database.insert(students, id=1, name=\"issa\", age=25, grade='master')\n"
   ]
  },
  {
   "cell_type": "code",
   "execution_count": 13,
   "id": "ec8d7800-572f-49d1-810e-35380319e010",
   "metadata": {},
   "outputs": [
    {
     "data": {
      "text/plain": [
       "[(1, 'issa', 25, 'master')]"
      ]
     },
     "execution_count": 13,
     "metadata": {},
     "output_type": "execute_result"
    }
   ],
   "source": [
    "database.s.query(students).all()"
   ]
  },
  {
   "cell_type": "code",
   "execution_count": 14,
   "id": "70ad2f6e-1891-4c79-9fa1-ad23c4b3aa76",
   "metadata": {},
   "outputs": [
    {
     "name": "stderr",
     "output_type": "stream",
     "text": [
      "2023-01-25 14:01:33,042 - INFO - Connexion closed.\n"
     ]
    }
   ],
   "source": [
    "database.close()"
   ]
  },
  {
   "cell_type": "markdown",
   "id": "fa150220-bc9a-42cb-a072-3219ea34a7c5",
   "metadata": {},
   "source": [
    "#### Cleaning"
   ]
  },
  {
   "cell_type": "code",
   "execution_count": 15,
   "id": "51aae35d-f002-49dd-bd7e-1e551917aa44",
   "metadata": {},
   "outputs": [],
   "source": [
    "!rm -rf module"
   ]
  }
 ],
 "metadata": {
  "kernelspec": {
   "display_name": "Python 3 (ipykernel)",
   "language": "python",
   "name": "python3"
  },
  "language_info": {
   "codemirror_mode": {
    "name": "ipython",
    "version": 3
   },
   "file_extension": ".py",
   "mimetype": "text/x-python",
   "name": "python",
   "nbconvert_exporter": "python",
   "pygments_lexer": "ipython3",
   "version": "3.9.7"
  }
 },
 "nbformat": 4,
 "nbformat_minor": 5
}
